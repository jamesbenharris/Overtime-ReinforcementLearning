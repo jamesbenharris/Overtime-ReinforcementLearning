{
 "cells": [
  {
   "cell_type": "markdown",
   "metadata": {
    "colab_type": "text",
    "id": "uGRz9iW3qC1x"
   },
   "source": [
    "# Overtime Reinforcement Learning\n",
    "\n",
    "This notebook uses [MuZero (https://github.com/werner-duvaud/muzero-general)](https://github.com/werner-duvaud/muzero-general) o optimize overtime. \n",
    "\n",
    "Game created by Ben Harris\n",
    "bharris@cityoftulsa.org"
   ]
  },
  {
   "cell_type": "code",
   "execution_count": 1,
   "metadata": {
    "colab": {
     "base_uri": "https://localhost:8080/",
     "height": 882
    },
    "colab_type": "code",
    "id": "dY8xtSboxYsr",
    "outputId": "37a1e523-f698-4542-c134-dc3dd0b2eac8"
   },
   "outputs": [],
   "source": [
    "from muzero import MuZero"
   ]
  },
  {
   "cell_type": "code",
   "execution_count": 2,
   "metadata": {},
   "outputs": [
    {
     "name": "stderr",
     "output_type": "stream",
     "text": [
      "2021-02-23 19:02:39,608\tINFO services.py:1171 -- View the Ray dashboard at \u001b[1m\u001b[32mhttp://127.0.0.1:8265\u001b[39m\u001b[22m\n"
     ]
    }
   ],
   "source": [
    "muzero = MuZero(\"overtime1D\")"
   ]
  },
  {
   "cell_type": "code",
   "execution_count": 3,
   "metadata": {},
   "outputs": [
    {
     "name": "stdout",
     "output_type": "stream",
     "text": [
      "\u001b[2m\u001b[36m(pid=865167)\u001b[0m [19:02:43] /home/bharris/.local/lib/python3.8/site-packages/treelite_runtime/predictor.py:309: Dynamic shared library /home/bharris/Research/Fire/RL/muzero-general/mymodel.so has been successfully loaded into memory\n",
      "\u001b[2m\u001b[36m(pid=865071)\u001b[0m [19:02:43] /home/bharris/.local/lib/python3.8/site-packages/treelite_runtime/predictor.py:309: Dynamic shared library /home/bharris/Research/Fire/RL/muzero-general/mymodel.so has been successfully loaded into memory\n",
      "\u001b[2m\u001b[36m(pid=865168)\u001b[0m [19:02:43] /home/bharris/.local/lib/python3.8/site-packages/treelite_runtime/predictor.py:309: Dynamic shared library /home/bharris/Research/Fire/RL/muzero-general/mymodel.so has been successfully loaded into memory\n",
      "\u001b[2m\u001b[36m(pid=865136)\u001b[0m [19:02:43] /home/bharris/.local/lib/python3.8/site-packages/treelite_runtime/predictor.py:309: Dynamic shared library /home/bharris/Research/Fire/RL/muzero-general/mymodel.so has been successfully loaded into memory\n",
      "\n",
      "Training...\n",
      "Run tensorboard --logdir ./results and go to http://localhost:6006/ to see in real time the training performance.\n",
      "\n",
      "\u001b[2m\u001b[36m(pid=865140)\u001b[0m [19:02:44] /home/bharris/.local/lib/python3.8/site-packages/treelite_runtime/predictor.py:309: Dynamic shared library /home/bharris/Research/Fire/RL/muzero-general/mymodel.so has been successfully loaded into memory\n",
      "Last test reward: 132960.00. Training step: 10000/10000. Played games: 327. Loss: 33.23\n",
      "Shutting down workers...\n",
      "\n",
      "\n",
      "Persisting replay buffer games to disk...\n"
     ]
    }
   ],
   "source": [
    "muzero.train()"
   ]
  }
 ],
 "metadata": {
  "colab": {
   "name": "notebook.ipynb",
   "provenance": []
  },
  "kernelspec": {
   "display_name": "PyTorch 1.4 GPU",
   "language": "python",
   "name": "pytorch1.4-gpu"
  },
  "language_info": {
   "codemirror_mode": {
    "name": "ipython",
    "version": 3
   },
   "file_extension": ".py",
   "mimetype": "text/x-python",
   "name": "python",
   "nbconvert_exporter": "python",
   "pygments_lexer": "ipython3",
   "version": "3.8.5"
  }
 },
 "nbformat": 4,
 "nbformat_minor": 1
}
