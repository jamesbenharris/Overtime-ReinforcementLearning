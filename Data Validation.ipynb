{
 "cells": [
  {
   "cell_type": "code",
   "execution_count": 58,
   "metadata": {},
   "outputs": [],
   "source": [
    "import pandas as pd\n",
    "from joblib import load\n",
    "import numpy\n",
    "import treelite\n",
    "import treelite_runtime"
   ]
  },
  {
   "cell_type": "code",
   "execution_count": 8,
   "metadata": {},
   "outputs": [],
   "source": [
    "data = numpy.load('data.npy')\n",
    "week_data = pd.read_csv('week.csv')['CB_TOTAL'].to_numpy()\n",
    "model = load('best.h5')\n",
    "vacation = 0\n",
    "week = 0"
   ]
  },
  {
   "cell_type": "code",
   "execution_count": 55,
   "metadata": {},
   "outputs": [],
   "source": [
    "model = treelite.Model.load('model.bst', model_format='xgboost')"
   ]
  },
  {
   "cell_type": "code",
   "execution_count": 60,
   "metadata": {},
   "outputs": [
    {
     "name": "stdout",
     "output_type": "stream",
     "text": [
      "[18:53:49] /workspace/src/compiler/ast_native.cc:44: Using ASTNativeCompiler\n",
      "[18:53:49] /workspace/src/compiler/ast/split.cc:24: Parallel compilation disabled; all member trees will be dumped to a single source file. This may increase compilation time and memory usage.\n",
      "[18:53:49] /workspace/src/c_api/c_api.cc:286: Code generation finished. Writing code to files...\n",
      "[18:53:49] /workspace/src/c_api/c_api.cc:291: Writing file recipe.json...\n",
      "[18:53:49] /workspace/src/c_api/c_api.cc:291: Writing file header.h...\n",
      "[18:53:49] /workspace/src/c_api/c_api.cc:291: Writing file main.c...\n",
      "[18:53:49] /home/bharris/.local/lib/python3.8/site-packages/treelite/contrib/util.py:104: Compiling sources files in directory ./tmpjm54k6fg into object files (*.o)...\n",
      "[18:53:51] /home/bharris/.local/lib/python3.8/site-packages/treelite/contrib/util.py:133: Generating dynamic shared library ./tmpjm54k6fg/predictor.so...\n",
      "[18:53:51] /home/bharris/.local/lib/python3.8/site-packages/treelite/contrib/__init__.py:278: Generated shared library in 1.84 seconds\n"
     ]
    }
   ],
   "source": [
    "model.export_lib(toolchain='gcc', libpath='./mymodel.so', verbose=True)"
   ]
  },
  {
   "cell_type": "code",
   "execution_count": 61,
   "metadata": {},
   "outputs": [
    {
     "name": "stdout",
     "output_type": "stream",
     "text": [
      "[18:54:16] /home/bharris/.local/lib/python3.8/site-packages/treelite_runtime/predictor.py:309: Dynamic shared library /home/bharris/Research/Fire/RL/muzero-general/mymodel.so has been successfully loaded into memory\n"
     ]
    }
   ],
   "source": [
    "model = treelite_runtime.Predictor('./mymodel.so', verbose=True)"
   ]
  },
  {
   "cell_type": "code",
   "execution_count": 75,
   "metadata": {},
   "outputs": [],
   "source": [
    "batch = treelite_runtime.Batch.from_npy2d(data[0].reshape(1,21))"
   ]
  },
  {
   "cell_type": "code",
   "execution_count": 79,
   "metadata": {},
   "outputs": [
    {
     "data": {
      "text/plain": [
       "1.0"
      ]
     },
     "execution_count": 79,
     "metadata": {},
     "output_type": "execute_result"
    }
   ],
   "source": [
    "predictor.predict(batch).round()"
   ]
  },
  {
   "cell_type": "code",
   "execution_count": 38,
   "metadata": {},
   "outputs": [],
   "source": [
    "    def get_reward(week_data,week,vacation):\n",
    "        try:\n",
    "            callbacks = week_data[week]\n",
    "            delta = 0\n",
    "            reward = 0\n",
    "            if callbacks >=0:\n",
    "                delta = callbacks + vacation\n",
    "                if delta <= 0:\n",
    "                    #self.savings += callbacks*1000\n",
    "                    reward = callbacks*1000\n",
    "                elif vacation < 0:\n",
    "                    reward = vacation*-1000\n",
    "                else:\n",
    "                    #self.savings += -1*self.vacation*1000  \n",
    "                    reward = -1*vacation*1000\n",
    "    #         else:\n",
    "    #             delta = callbacks + self.vacation\n",
    "    #             if delta >= 0:\n",
    "    #                 self.vac += callbacks*-1\n",
    "    #                 reward = callbacks*-1\n",
    "    #             else:\n",
    "    #                 self.vac += self.vacation\n",
    "    #                 reward = self.vacation\n",
    "    #         if delta <=0:\n",
    "    #             reward = numpy.abs(self.min - delta)*10/numpy.abs(self.min)\n",
    "    #         else:\n",
    "    #             reward = numpy.abs(self.max - delta)*10/numpy.abs(self.max)\n",
    "        except Exception as e: \n",
    "            print('error')\n",
    "        return round(reward)\n",
    "    \n",
    "    def step(action,week,week_data):\n",
    "        rewards =0\n",
    "        try:\n",
    "            vacation = 0\n",
    "            if action < 6:\n",
    "                vacation = action\n",
    "            elif action > 5:\n",
    "                vacation = (action - 5)*-1\n",
    "            done = week == 51\n",
    "            rewards = get_reward(week_data,week,vacation)\n",
    "        except Exception as e: \n",
    "            rewards =-1000\n",
    "            print(e)\n",
    "        return rewards, done\n"
   ]
  },
  {
   "cell_type": "code",
   "execution_count": 44,
   "metadata": {},
   "outputs": [
    {
     "data": {
      "text/plain": [
       "(-3000, True)"
      ]
     },
     "execution_count": 44,
     "metadata": {},
     "output_type": "execute_result"
    }
   ],
   "source": [
    "step(3,51,week_data)"
   ]
  },
  {
   "cell_type": "code",
   "execution_count": null,
   "metadata": {},
   "outputs": [],
   "source": []
  }
 ],
 "metadata": {
  "kernelspec": {
   "display_name": "PyTorch 1.4 GPU",
   "language": "python",
   "name": "pytorch1.4-gpu"
  },
  "language_info": {
   "codemirror_mode": {
    "name": "ipython",
    "version": 3
   },
   "file_extension": ".py",
   "mimetype": "text/x-python",
   "name": "python",
   "nbconvert_exporter": "python",
   "pygments_lexer": "ipython3",
   "version": "3.8.5"
  }
 },
 "nbformat": 4,
 "nbformat_minor": 4
}
